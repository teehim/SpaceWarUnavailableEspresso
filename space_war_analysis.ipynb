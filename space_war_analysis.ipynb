{
  "nbformat": 4,
  "nbformat_minor": 0,
  "metadata": {
    "colab": {
      "name": "Untitled0.ipynb",
      "provenance": [],
      "collapsed_sections": []
    },
    "kernelspec": {
      "name": "python3",
      "display_name": "Python 3"
    },
    "language_info": {
      "name": "python"
    }
  },
  "cells": [
    {
      "cell_type": "code",
      "metadata": {
        "colab": {
          "base_uri": "https://localhost:8080/"
        },
        "id": "1JBYv2MDW_q_",
        "outputId": "0b58524f-5470-4665-d7c1-525db8bdbcb1"
      },
      "source": [
        "!pip install river"
      ],
      "execution_count": 45,
      "outputs": [
        {
          "output_type": "stream",
          "name": "stdout",
          "text": [
            "Requirement already satisfied: river in /usr/local/lib/python3.7/dist-packages (0.8.0)\n",
            "Requirement already satisfied: numpy>=1.18.1 in /usr/local/lib/python3.7/dist-packages (from river) (1.21.4)\n",
            "Requirement already satisfied: scipy>=1.4.1 in /usr/local/lib/python3.7/dist-packages (from river) (1.4.1)\n",
            "Requirement already satisfied: pandas>=1.0.1 in /usr/local/lib/python3.7/dist-packages (from river) (1.1.5)\n",
            "Requirement already satisfied: pytz>=2017.2 in /usr/local/lib/python3.7/dist-packages (from pandas>=1.0.1->river) (2018.9)\n",
            "Requirement already satisfied: python-dateutil>=2.7.3 in /usr/local/lib/python3.7/dist-packages (from pandas>=1.0.1->river) (2.8.2)\n",
            "Requirement already satisfied: six>=1.5 in /usr/local/lib/python3.7/dist-packages (from python-dateutil>=2.7.3->pandas>=1.0.1->river) (1.15.0)\n"
          ]
        }
      ]
    },
    {
      "cell_type": "code",
      "metadata": {
        "colab": {
          "base_uri": "https://localhost:8080/"
        },
        "id": "HMhYwRiOX-So",
        "outputId": "bf7a7aaa-d312-4920-e50c-79b7dcc29c6f"
      },
      "source": [
        "!pip install -U numpy"
      ],
      "execution_count": 46,
      "outputs": [
        {
          "output_type": "stream",
          "name": "stdout",
          "text": [
            "Requirement already satisfied: numpy in /usr/local/lib/python3.7/dist-packages (1.21.4)\n"
          ]
        }
      ]
    },
    {
      "cell_type": "code",
      "metadata": {
        "id": "oGYjGxy-VipM"
      },
      "source": [
        "import pandas as pd\n",
        "from sklearn.preprocessing import StandardScaler\n",
        "import joblib\n",
        "import numpy as np"
      ],
      "execution_count": 73,
      "outputs": []
    },
    {
      "cell_type": "code",
      "metadata": {
        "id": "npHh8UX-V9A7"
      },
      "source": [
        "data_df = pd.read_csv(\"/content/drive/MyDrive/Colab Notebooks/7205/all_train_data.txt\")"
      ],
      "execution_count": 74,
      "outputs": []
    },
    {
      "cell_type": "code",
      "metadata": {
        "colab": {
          "base_uri": "https://localhost:8080/",
          "height": 419
        },
        "id": "3B9k_-_8sWgX",
        "outputId": "6db87013-bcf3-4720-a2ce-cc6f7a788eee"
      },
      "source": [
        "data_df"
      ],
      "execution_count": 75,
      "outputs": [
        {
          "output_type": "execute_result",
          "data": {
            "text/html": [
              "<div>\n",
              "<style scoped>\n",
              "    .dataframe tbody tr th:only-of-type {\n",
              "        vertical-align: middle;\n",
              "    }\n",
              "\n",
              "    .dataframe tbody tr th {\n",
              "        vertical-align: top;\n",
              "    }\n",
              "\n",
              "    .dataframe thead th {\n",
              "        text-align: right;\n",
              "    }\n",
              "</style>\n",
              "<table border=\"1\" class=\"dataframe\">\n",
              "  <thead>\n",
              "    <tr style=\"text-align: right;\">\n",
              "      <th></th>\n",
              "      <th>xpos</th>\n",
              "      <th>ypos</th>\n",
              "      <th>coin</th>\n",
              "      <th>emnemy</th>\n",
              "      <th>shot</th>\n",
              "      <th>enemy/shot</th>\n",
              "      <th>level</th>\n",
              "      <th>keyX</th>\n",
              "      <th>keyY</th>\n",
              "      <th>respawn_enemy</th>\n",
              "      <th>\"respawn_coin\"</th>\n",
              "    </tr>\n",
              "  </thead>\n",
              "  <tbody>\n",
              "    <tr>\n",
              "      <th>0</th>\n",
              "      <td>415.25</td>\n",
              "      <td>344.25</td>\n",
              "      <td>1</td>\n",
              "      <td>0</td>\n",
              "      <td>1</td>\n",
              "      <td>1</td>\n",
              "      <td>1</td>\n",
              "      <td>3</td>\n",
              "      <td>4</td>\n",
              "      <td>5</td>\n",
              "      <td>6</td>\n",
              "    </tr>\n",
              "    <tr>\n",
              "      <th>1</th>\n",
              "      <td>317.60</td>\n",
              "      <td>178.00</td>\n",
              "      <td>7</td>\n",
              "      <td>6</td>\n",
              "      <td>6</td>\n",
              "      <td>0</td>\n",
              "      <td>1</td>\n",
              "      <td>13</td>\n",
              "      <td>13</td>\n",
              "      <td>6</td>\n",
              "      <td>7</td>\n",
              "    </tr>\n",
              "    <tr>\n",
              "      <th>2</th>\n",
              "      <td>344.20</td>\n",
              "      <td>218.60</td>\n",
              "      <td>6</td>\n",
              "      <td>6</td>\n",
              "      <td>8</td>\n",
              "      <td>2</td>\n",
              "      <td>2</td>\n",
              "      <td>21</td>\n",
              "      <td>16</td>\n",
              "      <td>11</td>\n",
              "      <td>11</td>\n",
              "    </tr>\n",
              "    <tr>\n",
              "      <th>3</th>\n",
              "      <td>297.30</td>\n",
              "      <td>387.30</td>\n",
              "      <td>2</td>\n",
              "      <td>8</td>\n",
              "      <td>10</td>\n",
              "      <td>2</td>\n",
              "      <td>3</td>\n",
              "      <td>13</td>\n",
              "      <td>10</td>\n",
              "      <td>13</td>\n",
              "      <td>7</td>\n",
              "    </tr>\n",
              "    <tr>\n",
              "      <th>4</th>\n",
              "      <td>354.70</td>\n",
              "      <td>372.60</td>\n",
              "      <td>4</td>\n",
              "      <td>8</td>\n",
              "      <td>9</td>\n",
              "      <td>1</td>\n",
              "      <td>3</td>\n",
              "      <td>17</td>\n",
              "      <td>10</td>\n",
              "      <td>8</td>\n",
              "      <td>4</td>\n",
              "    </tr>\n",
              "    <tr>\n",
              "      <th>...</th>\n",
              "      <td>...</td>\n",
              "      <td>...</td>\n",
              "      <td>...</td>\n",
              "      <td>...</td>\n",
              "      <td>...</td>\n",
              "      <td>...</td>\n",
              "      <td>...</td>\n",
              "      <td>...</td>\n",
              "      <td>...</td>\n",
              "      <td>...</td>\n",
              "      <td>...</td>\n",
              "    </tr>\n",
              "    <tr>\n",
              "      <th>382</th>\n",
              "      <td>472.50</td>\n",
              "      <td>536.00</td>\n",
              "      <td>0</td>\n",
              "      <td>9</td>\n",
              "      <td>11</td>\n",
              "      <td>2</td>\n",
              "      <td>4</td>\n",
              "      <td>8</td>\n",
              "      <td>0</td>\n",
              "      <td>9</td>\n",
              "      <td>0</td>\n",
              "    </tr>\n",
              "    <tr>\n",
              "      <th>383</th>\n",
              "      <td>385.00</td>\n",
              "      <td>536.00</td>\n",
              "      <td>2</td>\n",
              "      <td>7</td>\n",
              "      <td>8</td>\n",
              "      <td>1</td>\n",
              "      <td>5</td>\n",
              "      <td>15</td>\n",
              "      <td>0</td>\n",
              "      <td>12</td>\n",
              "      <td>7</td>\n",
              "    </tr>\n",
              "    <tr>\n",
              "      <th>384</th>\n",
              "      <td>227.50</td>\n",
              "      <td>536.00</td>\n",
              "      <td>0</td>\n",
              "      <td>7</td>\n",
              "      <td>8</td>\n",
              "      <td>1</td>\n",
              "      <td>5</td>\n",
              "      <td>14</td>\n",
              "      <td>0</td>\n",
              "      <td>7</td>\n",
              "      <td>0</td>\n",
              "    </tr>\n",
              "    <tr>\n",
              "      <th>385</th>\n",
              "      <td>435.40</td>\n",
              "      <td>536.00</td>\n",
              "      <td>1</td>\n",
              "      <td>12</td>\n",
              "      <td>13</td>\n",
              "      <td>1</td>\n",
              "      <td>5</td>\n",
              "      <td>17</td>\n",
              "      <td>0</td>\n",
              "      <td>12</td>\n",
              "      <td>1</td>\n",
              "    </tr>\n",
              "    <tr>\n",
              "      <th>386</th>\n",
              "      <td>627.20</td>\n",
              "      <td>536.00</td>\n",
              "      <td>2</td>\n",
              "      <td>9</td>\n",
              "      <td>10</td>\n",
              "      <td>1</td>\n",
              "      <td>6</td>\n",
              "      <td>12</td>\n",
              "      <td>0</td>\n",
              "      <td>14</td>\n",
              "      <td>7</td>\n",
              "    </tr>\n",
              "  </tbody>\n",
              "</table>\n",
              "<p>387 rows × 11 columns</p>\n",
              "</div>"
            ],
            "text/plain": [
              "       xpos    ypos  coin  emnemy  ...  keyX  keyY  respawn_enemy   \"respawn_coin\"\n",
              "0    415.25  344.25     1       0  ...     3     4              5                6\n",
              "1    317.60  178.00     7       6  ...    13    13              6                7\n",
              "2    344.20  218.60     6       6  ...    21    16             11               11\n",
              "3    297.30  387.30     2       8  ...    13    10             13                7\n",
              "4    354.70  372.60     4       8  ...    17    10              8                4\n",
              "..      ...     ...   ...     ...  ...   ...   ...            ...              ...\n",
              "382  472.50  536.00     0       9  ...     8     0              9                0\n",
              "383  385.00  536.00     2       7  ...    15     0             12                7\n",
              "384  227.50  536.00     0       7  ...    14     0              7                0\n",
              "385  435.40  536.00     1      12  ...    17     0             12                1\n",
              "386  627.20  536.00     2       9  ...    12     0             14                7\n",
              "\n",
              "[387 rows x 11 columns]"
            ]
          },
          "metadata": {},
          "execution_count": 75
        }
      ]
    },
    {
      "cell_type": "code",
      "metadata": {
        "id": "aymPulTpXQvp"
      },
      "source": [
        "from river import cluster\n",
        "from river import stream\n",
        "from river import tree\n",
        "\n",
        "streamkmeans = cluster.STREAMKMeans(n_clusters=4, halflife=0.5, sigma=1.5, seed=0)"
      ],
      "execution_count": 76,
      "outputs": []
    },
    {
      "cell_type": "code",
      "metadata": {
        "id": "xfVMc3GAxo2-"
      },
      "source": [
        "dt_scaler = StandardScaler();\n",
        "scaled_features = dt_scaler.fit_transform(data_df.values)\n",
        "scaled_features_df = pd.DataFrame(scaled_features, index=data_df.index, columns=data_df.columns)"
      ],
      "execution_count": 77,
      "outputs": []
    },
    {
      "cell_type": "code",
      "metadata": {
        "id": "01A-UuUnv5ED"
      },
      "source": [
        "for x in scaled_features_df.iterrows():\n",
        "  data = {}\n",
        "  for y in range(x[1].size):\n",
        "    data[y] = x[1][y]\n",
        "  streamkmeans = streamkmeans.learn_one(data)"
      ],
      "execution_count": 78,
      "outputs": []
    },
    {
      "cell_type": "code",
      "metadata": {
        "colab": {
          "base_uri": "https://localhost:8080/"
        },
        "id": "jVRIaOU_xXUd",
        "outputId": "e9eadb96-bef3-417a-fe05-c56926570de5"
      },
      "source": [
        "streamkmeans.centers"
      ],
      "execution_count": 79,
      "outputs": [
        {
          "output_type": "execute_result",
          "data": {
            "text/plain": [
              "{0: defaultdict(functools.partial(<bound method Random.gauss of <random.Random object at 0x555959311720>>, 0, 1.5),\n",
              "             {0: -0.8444124213031913,\n",
              "              1: 0.2625590295445621,\n",
              "              2: 0.5568197121907725,\n",
              "              3: -0.42215122778488534,\n",
              "              4: -0.11719143737791782,\n",
              "              5: 1.546710455705604,\n",
              "              6: -0.5455328212007539,\n",
              "              7: -0.13134654610865915,\n",
              "              8: -1.0077307840790608,\n",
              "              9: -0.35597799372425565,\n",
              "              10: 0.5656786075604427}),\n",
              " 1: defaultdict(functools.partial(<bound method Random.gauss of <random.Random object at 0x555959311720>>, 0, 1.5),\n",
              "             {0: 0.31814095417168087,\n",
              "              1: 0.8695427819269008,\n",
              "              2: -0.3076568494614655,\n",
              "              3: 1.4560510415042873,\n",
              "              4: 1.1541603348605363,\n",
              "              5: -0.2255537715108148,\n",
              "              6: 1.5411626696873173,\n",
              "              7: 1.0404580120415914,\n",
              "              8: -0.9031962609054913,\n",
              "              9: 1.2101568293942209,\n",
              "              10: -0.37046267015945133}),\n",
              " 2: defaultdict(functools.partial(<bound method Random.gauss of <random.Random object at 0x555959311720>>, 0, 1.5),\n",
              "             {0: 0.6811303790162658,\n",
              "              1: -0.07126299337976488,\n",
              "              2: -0.344074690273256,\n",
              "              3: 0.14916927640109073,\n",
              "              4: -0.6629043862627024,\n",
              "              5: 0.44520372271955816,\n",
              "              6: 2.0014418938403207,\n",
              "              7: -0.7557857560623658,\n",
              "              8: -1.7129343966702262,\n",
              "              9: 0.5227852003766749,\n",
              "              10: 0.3308373255337828}),\n",
              " 3: defaultdict(functools.partial(<bound method Random.gauss of <random.Random object at 0x555959311720>>, 0, 1.5),\n",
              "             {0: 1.1778875858384643,\n",
              "              1: 0.23159404825424723,\n",
              "              2: -0.2011504095723512,\n",
              "              3: -0.2452966132391691,\n",
              "              4: -0.5302406035331896,\n",
              "              5: 0.10754979127816167,\n",
              "              6: -0.6173176209051088,\n",
              "              7: 0.6956660030573774,\n",
              "              8: -0.6713972117542073,\n",
              "              9: -0.17457982136250028,\n",
              "              10: -0.3660768323014776})}"
            ]
          },
          "metadata": {},
          "execution_count": 79
        }
      ]
    },
    {
      "cell_type": "code",
      "metadata": {
        "id": "OSg2hdDEyKCd"
      },
      "source": [
        "classes = []\n",
        "for x in scaled_features_df.iterrows():\n",
        "  data = {}\n",
        "  for y in range(x[1].size):\n",
        "    data[y] = x[1][y]\n",
        "\n",
        "  classes.append(streamkmeans.predict_one(data))\n",
        "data_df['class'] = classes"
      ],
      "execution_count": 80,
      "outputs": []
    },
    {
      "cell_type": "code",
      "metadata": {
        "colab": {
          "base_uri": "https://localhost:8080/",
          "height": 419
        },
        "id": "qUyMATfkrn18",
        "outputId": "045f63ea-2e6e-4f4b-fb5a-a2e8d1ef9cdc"
      },
      "source": [
        "data_df"
      ],
      "execution_count": 81,
      "outputs": [
        {
          "output_type": "execute_result",
          "data": {
            "text/html": [
              "<div>\n",
              "<style scoped>\n",
              "    .dataframe tbody tr th:only-of-type {\n",
              "        vertical-align: middle;\n",
              "    }\n",
              "\n",
              "    .dataframe tbody tr th {\n",
              "        vertical-align: top;\n",
              "    }\n",
              "\n",
              "    .dataframe thead th {\n",
              "        text-align: right;\n",
              "    }\n",
              "</style>\n",
              "<table border=\"1\" class=\"dataframe\">\n",
              "  <thead>\n",
              "    <tr style=\"text-align: right;\">\n",
              "      <th></th>\n",
              "      <th>xpos</th>\n",
              "      <th>ypos</th>\n",
              "      <th>coin</th>\n",
              "      <th>emnemy</th>\n",
              "      <th>shot</th>\n",
              "      <th>enemy/shot</th>\n",
              "      <th>level</th>\n",
              "      <th>keyX</th>\n",
              "      <th>keyY</th>\n",
              "      <th>respawn_enemy</th>\n",
              "      <th>\"respawn_coin\"</th>\n",
              "      <th>class</th>\n",
              "    </tr>\n",
              "  </thead>\n",
              "  <tbody>\n",
              "    <tr>\n",
              "      <th>0</th>\n",
              "      <td>415.25</td>\n",
              "      <td>344.25</td>\n",
              "      <td>1</td>\n",
              "      <td>0</td>\n",
              "      <td>1</td>\n",
              "      <td>1</td>\n",
              "      <td>1</td>\n",
              "      <td>3</td>\n",
              "      <td>4</td>\n",
              "      <td>5</td>\n",
              "      <td>6</td>\n",
              "      <td>3</td>\n",
              "    </tr>\n",
              "    <tr>\n",
              "      <th>1</th>\n",
              "      <td>317.60</td>\n",
              "      <td>178.00</td>\n",
              "      <td>7</td>\n",
              "      <td>6</td>\n",
              "      <td>6</td>\n",
              "      <td>0</td>\n",
              "      <td>1</td>\n",
              "      <td>13</td>\n",
              "      <td>13</td>\n",
              "      <td>6</td>\n",
              "      <td>7</td>\n",
              "      <td>0</td>\n",
              "    </tr>\n",
              "    <tr>\n",
              "      <th>2</th>\n",
              "      <td>344.20</td>\n",
              "      <td>218.60</td>\n",
              "      <td>6</td>\n",
              "      <td>6</td>\n",
              "      <td>8</td>\n",
              "      <td>2</td>\n",
              "      <td>2</td>\n",
              "      <td>21</td>\n",
              "      <td>16</td>\n",
              "      <td>11</td>\n",
              "      <td>11</td>\n",
              "      <td>0</td>\n",
              "    </tr>\n",
              "    <tr>\n",
              "      <th>3</th>\n",
              "      <td>297.30</td>\n",
              "      <td>387.30</td>\n",
              "      <td>2</td>\n",
              "      <td>8</td>\n",
              "      <td>10</td>\n",
              "      <td>2</td>\n",
              "      <td>3</td>\n",
              "      <td>13</td>\n",
              "      <td>10</td>\n",
              "      <td>13</td>\n",
              "      <td>7</td>\n",
              "      <td>1</td>\n",
              "    </tr>\n",
              "    <tr>\n",
              "      <th>4</th>\n",
              "      <td>354.70</td>\n",
              "      <td>372.60</td>\n",
              "      <td>4</td>\n",
              "      <td>8</td>\n",
              "      <td>9</td>\n",
              "      <td>1</td>\n",
              "      <td>3</td>\n",
              "      <td>17</td>\n",
              "      <td>10</td>\n",
              "      <td>8</td>\n",
              "      <td>4</td>\n",
              "      <td>1</td>\n",
              "    </tr>\n",
              "    <tr>\n",
              "      <th>...</th>\n",
              "      <td>...</td>\n",
              "      <td>...</td>\n",
              "      <td>...</td>\n",
              "      <td>...</td>\n",
              "      <td>...</td>\n",
              "      <td>...</td>\n",
              "      <td>...</td>\n",
              "      <td>...</td>\n",
              "      <td>...</td>\n",
              "      <td>...</td>\n",
              "      <td>...</td>\n",
              "      <td>...</td>\n",
              "    </tr>\n",
              "    <tr>\n",
              "      <th>382</th>\n",
              "      <td>472.50</td>\n",
              "      <td>536.00</td>\n",
              "      <td>0</td>\n",
              "      <td>9</td>\n",
              "      <td>11</td>\n",
              "      <td>2</td>\n",
              "      <td>4</td>\n",
              "      <td>8</td>\n",
              "      <td>0</td>\n",
              "      <td>9</td>\n",
              "      <td>0</td>\n",
              "      <td>1</td>\n",
              "    </tr>\n",
              "    <tr>\n",
              "      <th>383</th>\n",
              "      <td>385.00</td>\n",
              "      <td>536.00</td>\n",
              "      <td>2</td>\n",
              "      <td>7</td>\n",
              "      <td>8</td>\n",
              "      <td>1</td>\n",
              "      <td>5</td>\n",
              "      <td>15</td>\n",
              "      <td>0</td>\n",
              "      <td>12</td>\n",
              "      <td>7</td>\n",
              "      <td>1</td>\n",
              "    </tr>\n",
              "    <tr>\n",
              "      <th>384</th>\n",
              "      <td>227.50</td>\n",
              "      <td>536.00</td>\n",
              "      <td>0</td>\n",
              "      <td>7</td>\n",
              "      <td>8</td>\n",
              "      <td>1</td>\n",
              "      <td>5</td>\n",
              "      <td>14</td>\n",
              "      <td>0</td>\n",
              "      <td>7</td>\n",
              "      <td>0</td>\n",
              "      <td>1</td>\n",
              "    </tr>\n",
              "    <tr>\n",
              "      <th>385</th>\n",
              "      <td>435.40</td>\n",
              "      <td>536.00</td>\n",
              "      <td>1</td>\n",
              "      <td>12</td>\n",
              "      <td>13</td>\n",
              "      <td>1</td>\n",
              "      <td>5</td>\n",
              "      <td>17</td>\n",
              "      <td>0</td>\n",
              "      <td>12</td>\n",
              "      <td>1</td>\n",
              "      <td>1</td>\n",
              "    </tr>\n",
              "    <tr>\n",
              "      <th>386</th>\n",
              "      <td>627.20</td>\n",
              "      <td>536.00</td>\n",
              "      <td>2</td>\n",
              "      <td>9</td>\n",
              "      <td>10</td>\n",
              "      <td>1</td>\n",
              "      <td>6</td>\n",
              "      <td>12</td>\n",
              "      <td>0</td>\n",
              "      <td>14</td>\n",
              "      <td>7</td>\n",
              "      <td>1</td>\n",
              "    </tr>\n",
              "  </tbody>\n",
              "</table>\n",
              "<p>387 rows × 12 columns</p>\n",
              "</div>"
            ],
            "text/plain": [
              "       xpos    ypos  coin  emnemy  ...  keyY  respawn_enemy   \"respawn_coin\"  class\n",
              "0    415.25  344.25     1       0  ...     4              5                6      3\n",
              "1    317.60  178.00     7       6  ...    13              6                7      0\n",
              "2    344.20  218.60     6       6  ...    16             11               11      0\n",
              "3    297.30  387.30     2       8  ...    10             13                7      1\n",
              "4    354.70  372.60     4       8  ...    10              8                4      1\n",
              "..      ...     ...   ...     ...  ...   ...            ...              ...    ...\n",
              "382  472.50  536.00     0       9  ...     0              9                0      1\n",
              "383  385.00  536.00     2       7  ...     0             12                7      1\n",
              "384  227.50  536.00     0       7  ...     0              7                0      1\n",
              "385  435.40  536.00     1      12  ...     0             12                1      1\n",
              "386  627.20  536.00     2       9  ...     0             14                7      1\n",
              "\n",
              "[387 rows x 12 columns]"
            ]
          },
          "metadata": {},
          "execution_count": 81
        }
      ]
    },
    {
      "cell_type": "code",
      "metadata": {
        "id": "wB7CBz-7AvCh"
      },
      "source": [
        "model = tree.HoeffdingAdaptiveTreeClassifier(\n",
        "  grace_period=100,\n",
        "  split_confidence=1e-5,\n",
        "  leaf_prediction='nb',\n",
        "  nb_threshold=10,\n",
        "  seed=0\n",
        ")\n",
        "\n",
        "metric = metrics.ROCAUC()"
      ],
      "execution_count": 82,
      "outputs": []
    },
    {
      "cell_type": "code",
      "metadata": {
        "id": "WMVYtTOsB_0l"
      },
      "source": [
        "train_datas = []\n",
        "for x in list(data_df.iterrows()):\n",
        "  data = {}\n",
        "  for y in range(x[1].size-1):\n",
        "    data[y] = x[1][y]\n",
        "  train_datas.append((data, x[1][-1]))\n",
        "  # model.learn_one(data, x[1][-1])"
      ],
      "execution_count": 83,
      "outputs": []
    },
    {
      "cell_type": "code",
      "metadata": {
        "colab": {
          "base_uri": "https://localhost:8080/"
        },
        "id": "nEp-LlYwsj6A",
        "outputId": "d9b00df6-a9c7-4ad3-e2b1-fbefcda1c6c5"
      },
      "source": [
        "evaluate.progressive_val_score(train_datas, model, metric)"
      ],
      "execution_count": 84,
      "outputs": [
        {
          "output_type": "execute_result",
          "data": {
            "text/plain": [
              "ROCAUC: 0.976505"
            ]
          },
          "metadata": {},
          "execution_count": 84
        }
      ]
    },
    {
      "cell_type": "code",
      "metadata": {
        "colab": {
          "base_uri": "https://localhost:8080/"
        },
        "id": "Eq91Bl-NSLGe",
        "outputId": "d3d8dee6-66af-414a-e1e8-195ffc0f4d02"
      },
      "source": [
        "joblib.dump(model, 'model.h5')"
      ],
      "execution_count": null,
      "outputs": [
        {
          "output_type": "execute_result",
          "data": {
            "text/plain": [
              "['model.h5']"
            ]
          },
          "metadata": {},
          "execution_count": 40
        }
      ]
    },
    {
      "cell_type": "code",
      "metadata": {
        "colab": {
          "base_uri": "https://localhost:8080/"
        },
        "id": "4TnCj3ZiV-NY",
        "outputId": "d03f3d56-7833-46c5-aa3b-d523c8c09d39"
      },
      "source": [
        "mean_collected_coin = list(data_df.groupby(['class']).mean()['coin'])\n",
        "mean_enemies_kills = list(data_df.groupby(['class']).mean()['emnemy'])\n",
        "print(mean_enemies_kills)\n",
        "print(mean_collected_coin)"
      ],
      "execution_count": null,
      "outputs": [
        {
          "output_type": "stream",
          "name": "stdout",
          "text": [
            "[3.849056603773585, 6.220779220779221, 1.9942528735632183, 13.433333333333334]\n",
            "[0.9716981132075472, 3.857142857142857, 1.2873563218390804, 1.1]\n"
          ]
        }
      ]
    },
    {
      "cell_type": "code",
      "metadata": {
        "id": "qGDuFM8VcWJ0"
      },
      "source": [
        "sum_df = pd.DataFrame()\n",
        "sum_df['xpos'] = list(data_df.groupby(['class']).mean()['xpos'])\n",
        "sum_df['ypos'] = list(data_df.groupby(['class']).mean()['ypos'])\n",
        "sum_df['coin'] = list(data_df.groupby(['class']).mean()['coin'])\n",
        "sum_df['enemy'] = list(data_df.groupby(['class']).mean()['emnemy'])\n",
        "sum_df['shot'] = list(data_df.groupby(['class']).mean()['shot'])\n",
        "sum_df['shot-enemy'] = list(data_df.groupby(['class']).mean()['enemy/shot'])\n",
        "sum_df['level'] = list(data_df.groupby(['class']).mean()['level'])\n",
        "sum_df['keyX'] = list(data_df.groupby(['class']).mean()['keyX'])\n",
        "sum_df['keyY'] = list(data_df.groupby(['class']).mean()['keyY'])\n",
        "sum_df['respawn_enemy'] = list(data_df.groupby(['class']).mean()['respawn_enemy'])\n",
        "sum_df['respawn_coin'] = list(data_df.groupby(['class']).mean()[' \"respawn_coin\"'])\n"
      ],
      "execution_count": 85,
      "outputs": []
    },
    {
      "cell_type": "code",
      "metadata": {
        "colab": {
          "base_uri": "https://localhost:8080/",
          "height": 173
        },
        "id": "V-7W2WSodRTz",
        "outputId": "57bf728b-3247-4634-f9c0-306409f7752c"
      },
      "source": [
        "sum_df"
      ],
      "execution_count": 86,
      "outputs": [
        {
          "output_type": "execute_result",
          "data": {
            "text/html": [
              "<div>\n",
              "<style scoped>\n",
              "    .dataframe tbody tr th:only-of-type {\n",
              "        vertical-align: middle;\n",
              "    }\n",
              "\n",
              "    .dataframe tbody tr th {\n",
              "        vertical-align: top;\n",
              "    }\n",
              "\n",
              "    .dataframe thead th {\n",
              "        text-align: right;\n",
              "    }\n",
              "</style>\n",
              "<table border=\"1\" class=\"dataframe\">\n",
              "  <thead>\n",
              "    <tr style=\"text-align: right;\">\n",
              "      <th></th>\n",
              "      <th>xpos</th>\n",
              "      <th>ypos</th>\n",
              "      <th>coin</th>\n",
              "      <th>enemy</th>\n",
              "      <th>shot</th>\n",
              "      <th>shot-enemy</th>\n",
              "      <th>level</th>\n",
              "      <th>keyX</th>\n",
              "      <th>keyY</th>\n",
              "      <th>respawn_enemy</th>\n",
              "      <th>respawn_coin</th>\n",
              "    </tr>\n",
              "  </thead>\n",
              "  <tbody>\n",
              "    <tr>\n",
              "      <th>0</th>\n",
              "      <td>286.918447</td>\n",
              "      <td>360.889078</td>\n",
              "      <td>2.456311</td>\n",
              "      <td>2.485437</td>\n",
              "      <td>6.009709</td>\n",
              "      <td>3.524272</td>\n",
              "      <td>1.970874</td>\n",
              "      <td>9.029126</td>\n",
              "      <td>6.640777</td>\n",
              "      <td>4.592233</td>\n",
              "      <td>4.592233</td>\n",
              "    </tr>\n",
              "    <tr>\n",
              "      <th>1</th>\n",
              "      <td>349.344565</td>\n",
              "      <td>466.273913</td>\n",
              "      <td>1.739130</td>\n",
              "      <td>10.108696</td>\n",
              "      <td>11.434783</td>\n",
              "      <td>1.326087</td>\n",
              "      <td>4.239130</td>\n",
              "      <td>14.250000</td>\n",
              "      <td>5.445652</td>\n",
              "      <td>12.826087</td>\n",
              "      <td>4.456522</td>\n",
              "    </tr>\n",
              "    <tr>\n",
              "      <th>2</th>\n",
              "      <td>324.020000</td>\n",
              "      <td>396.130000</td>\n",
              "      <td>1.600000</td>\n",
              "      <td>4.400000</td>\n",
              "      <td>5.100000</td>\n",
              "      <td>0.700000</td>\n",
              "      <td>4.200000</td>\n",
              "      <td>7.400000</td>\n",
              "      <td>3.400000</td>\n",
              "      <td>7.700000</td>\n",
              "      <td>5.100000</td>\n",
              "    </tr>\n",
              "    <tr>\n",
              "      <th>3</th>\n",
              "      <td>419.489560</td>\n",
              "      <td>428.959478</td>\n",
              "      <td>1.252747</td>\n",
              "      <td>2.236264</td>\n",
              "      <td>3.642857</td>\n",
              "      <td>1.406593</td>\n",
              "      <td>1.873626</td>\n",
              "      <td>8.236264</td>\n",
              "      <td>4.384615</td>\n",
              "      <td>4.395604</td>\n",
              "      <td>3.395604</td>\n",
              "    </tr>\n",
              "  </tbody>\n",
              "</table>\n",
              "</div>"
            ],
            "text/plain": [
              "         xpos        ypos      coin  ...      keyY  respawn_enemy  respawn_coin\n",
              "0  286.918447  360.889078  2.456311  ...  6.640777       4.592233      4.592233\n",
              "1  349.344565  466.273913  1.739130  ...  5.445652      12.826087      4.456522\n",
              "2  324.020000  396.130000  1.600000  ...  3.400000       7.700000      5.100000\n",
              "3  419.489560  428.959478  1.252747  ...  4.384615       4.395604      3.395604\n",
              "\n",
              "[4 rows x 11 columns]"
            ]
          },
          "metadata": {},
          "execution_count": 86
        }
      ]
    },
    {
      "cell_type": "code",
      "metadata": {
        "colab": {
          "base_uri": "https://localhost:8080/"
        },
        "id": "1R_4jEvwYY7p",
        "outputId": "0f370da5-acf8-40d8-c9f0-e4e88f3e8f71"
      },
      "source": [
        "labels = []\n",
        "num_labels = len(mean_collected_coin)\n",
        "for i in range(num_labels):\n",
        "    if i % 2 == 0:\n",
        "        sorted_index = np.argsort(mean_collected_coin)\n",
        "    else:\n",
        "        sorted_index = np.argsort(mean_enemies_kills)\n",
        "\n",
        "    sorted_index = list(sorted_index)\n",
        "    sorted_index.reverse()\n",
        "    for max_index in sorted_index:\n",
        "        if max_index not in labels:\n",
        "            labels.append(max_index)\n",
        "            break\n",
        "\n",
        "print(labels)\n",
        "\n",
        "LABELS = {\n",
        "    labels[0]: 'Hardcore Achiever',\n",
        "    labels[1]: 'Hardcore Killer',\n",
        "    labels[2]: 'Casual Achiever',\n",
        "    labels[3]: 'Casual Killer',\n",
        "}\n",
        "print(LABELS)"
      ],
      "execution_count": 87,
      "outputs": [
        {
          "output_type": "stream",
          "name": "stdout",
          "text": [
            "[1, 3, 2, 0]\n",
            "{1: 'Hardcore Achiever', 3: 'Hardcore Killer', 2: 'Casual Achiever', 0: 'Casual Killer'}\n"
          ]
        }
      ]
    },
    {
      "cell_type": "code",
      "metadata": {
        "id": "cLjP5T4lYN8b"
      },
      "source": [
        ""
      ],
      "execution_count": null,
      "outputs": []
    }
  ]
}